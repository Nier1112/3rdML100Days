{
 "cells": [
  {
   "cell_type": "markdown",
   "metadata": {},
   "source": [
    "## [作業目標]\n",
    "了解機器學習適合應用的領域與範疇。"
   ]
  },
  {
   "cell_type": "markdown",
   "metadata": {},
   "source": [
    "## [作業重點]\n",
    "透過瞭解機器學習的運作方式，找出非常適用機器學習應用的領域及其原因"
   ]
  },
  {
   "cell_type": "markdown",
   "metadata": {},
   "source": [
    "## 作業\n",
    "請找出一個你認為機器學習可以發光發熱的領域並闡述原因? "
   ]
  },
  {
   "cell_type": "code",
   "execution_count": null,
   "metadata": {},
   "outputs": [],
   "source": [
    "   機器學習是指，讓機器從資料中找尋規律律與趨勢⽽而不需要給定特殊規則\n",
    "    需要條件：\n",
    "    1. 大量data給機器學習\n",
    "    2. 目標明確\n",
    "    3. 重複性高\n",
    "    \n",
    "    並且若針對難以量化的人類文化無法辨識，像是語言中的雙關語、和反諷\n",
    "    \n",
    "    根據以上條件，\n",
    "    工業製造上的QC品質確認是符合上述條件。\n",
    "    因此我認為可以透過訓練機器的方式讓機器自我判斷加工後的製造件品質"
   ]
  }
 ],
 "metadata": {
  "kernelspec": {
   "display_name": "Python 3",
   "language": "python",
   "name": "python3"
  },
  "language_info": {
   "codemirror_mode": {
    "name": "ipython",
    "version": 3
   },
   "file_extension": ".py",
   "mimetype": "text/x-python",
   "name": "python",
   "nbconvert_exporter": "python",
   "pygments_lexer": "ipython3",
   "version": "3.7.3"
  }
 },
 "nbformat": 4,
 "nbformat_minor": 2
}
